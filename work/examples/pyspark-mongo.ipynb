{
 "cells": [
  {
   "cell_type": "markdown",
   "id": "bc3baa2f",
   "metadata": {},
   "source": [
    "Create the SparkSession and set the environment to use our local MongoDB cluster"
   ]
  },
  {
   "cell_type": "code",
   "execution_count": 1,
   "id": "cccd78bc",
   "metadata": {},
   "outputs": [],
   "source": [
    "from pyspark.sql import SparkSession\n",
    "\n",
    "spark = SparkSession.\\\n",
    "        builder.\\\n",
    "        appName(\"pyspark-notebook2\").\\\n",
    "        master(\"spark://spark-master:7077\").\\\n",
    "        config(\"spark.executor.memory\", \"512m\").\\\n",
    "        config(\"spark.mongodb.input.uri\",\"mongodb://mongo1:27017/Stocks.Source\").\\\n",
    "        config(\"spark.mongodb.output.uri\",\"mongodb://mongo1:27017/Stocks.Source\").\\\n",
    "        config(\"spark.jars.packages\", \"org.mongodb.spark:mongo-spark-connector_2.12:3.0.0\").\\\n",
    "        getOrCreate()"
   ]
  },
  {
   "cell_type": "markdown",
   "id": "79cf6468",
   "metadata": {},
   "source": [
    "Next load the dataframes from MongoDB"
   ]
  },
  {
   "cell_type": "code",
   "execution_count": 2,
   "id": "4f3bdb1a",
   "metadata": {},
   "outputs": [],
   "source": [
    "df = spark.read.format(\"mongo\").load()"
   ]
  },
  {
   "cell_type": "markdown",
   "id": "c355d4a9",
   "metadata": {},
   "source": [
    "Let’s verify the data was loaded by looking at the schema:"
   ]
  },
  {
   "cell_type": "code",
   "execution_count": 3,
   "id": "7adc2f75",
   "metadata": {},
   "outputs": [
    {
     "name": "stdout",
     "output_type": "stream",
     "text": [
      "root\n",
      " |-- _id: struct (nullable = true)\n",
      " |    |-- oid: string (nullable = true)\n",
      " |-- company_name: string (nullable = true)\n",
      " |-- company_symbol: string (nullable = true)\n",
      " |-- price: double (nullable = true)\n",
      " |-- tx_time: string (nullable = true)\n",
      "\n"
     ]
    }
   ],
   "source": [
    "df.printSchema()"
   ]
  },
  {
   "cell_type": "markdown",
   "id": "fc99c226",
   "metadata": {},
   "source": [
    "We can see that the tx_time field is loaded as a string. We can easily convert this to a time by issuing a cast statement:"
   ]
  },
  {
   "cell_type": "code",
   "execution_count": 4,
   "id": "bfc240d3",
   "metadata": {},
   "outputs": [],
   "source": [
    "df = df.withColumn(\"tx_time\", df.tx_time.cast(\"timestamp\"))"
   ]
  },
  {
   "cell_type": "markdown",
   "id": "c64a1d44",
   "metadata": {},
   "source": [
    "Next, we can add a new ‘movingAverage’ column that will show a moving average based upon the previous value in the dataset. To do this we leverage the PySpark Window function as follows:"
   ]
  },
  {
   "cell_type": "code",
   "execution_count": 5,
   "id": "ca4cb9e7",
   "metadata": {},
   "outputs": [],
   "source": [
    "from pyspark.sql import functions as F\n",
    "from pyspark.sql.window import Window\n",
    "\n",
    "movAvg = df.withColumn(\"movingAverage\", F.avg(\"price\")\n",
    "             .over( Window.partitionBy(\"company_symbol\").rowsBetween(-1,1)) )"
   ]
  },
  {
   "cell_type": "markdown",
   "id": "8d5d0957",
   "metadata": {},
   "source": [
    "To see our data with the new moving average column we can issue a movAvg.show()."
   ]
  },
  {
   "cell_type": "code",
   "execution_count": 6,
   "id": "597ba24f",
   "metadata": {},
   "outputs": [
    {
     "name": "stdout",
     "output_type": "stream",
     "text": [
      "+--------------------+--------------------+--------------+-----+-------------------+------------------+\n",
      "|                 _id|        company_name|company_symbol|price|            tx_time|     movingAverage|\n",
      "+--------------------+--------------------+--------------+-----+-------------------+------------------+\n",
      "|{5f527ac22f6a1552...|ITCHY ACRE CORPOR...|           IAC|43.38|2020-09-04 13:34:58|43.385000000000005|\n",
      "|{5f527ac32f6a1552...|ITCHY ACRE CORPOR...|           IAC|43.39|2020-09-04 13:34:59| 43.39666666666667|\n",
      "|{5f527ac42f6a1552...|ITCHY ACRE CORPOR...|           IAC|43.42|2020-09-04 13:35:00| 43.42333333333334|\n",
      "|{5f527ac62f6a1552...|ITCHY ACRE CORPOR...|           IAC|43.46|2020-09-04 13:35:02|             43.46|\n",
      "|{5f527ac82f6a1552...|ITCHY ACRE CORPOR...|           IAC| 43.5|2020-09-04 13:35:04|              43.5|\n",
      "|{5f527aca2f6a1552...|ITCHY ACRE CORPOR...|           IAC|43.54|2020-09-04 13:35:06| 43.52333333333333|\n",
      "|{5f527acc2f6a1552...|ITCHY ACRE CORPOR...|           IAC|43.53|2020-09-04 13:35:08| 43.53333333333333|\n",
      "|{5f527ace2f6a1552...|ITCHY ACRE CORPOR...|           IAC|43.53|2020-09-04 13:35:10| 43.52333333333333|\n",
      "|{5f527ad02f6a1552...|ITCHY ACRE CORPOR...|           IAC|43.51|2020-09-04 13:35:12| 43.51666666666666|\n",
      "|{5f527ad32f6a1552...|ITCHY ACRE CORPOR...|           IAC|43.51|2020-09-04 13:35:15| 43.49666666666667|\n",
      "|{5f527ad52f6a1552...|ITCHY ACRE CORPOR...|           IAC|43.47|2020-09-04 13:35:17| 43.49333333333333|\n",
      "|{5f527ad72f6a1552...|ITCHY ACRE CORPOR...|           IAC| 43.5|2020-09-04 13:35:19|             43.48|\n",
      "|{5f527ad92f6a1552...|ITCHY ACRE CORPOR...|           IAC|43.47|2020-09-04 13:35:21| 43.45333333333334|\n",
      "|{5f527adb2f6a1552...|ITCHY ACRE CORPOR...|           IAC|43.39|2020-09-04 13:35:23| 43.39333333333334|\n",
      "|{5f527add2f6a1552...|ITCHY ACRE CORPOR...|           IAC|43.32|2020-09-04 13:35:25|43.343333333333334|\n",
      "|{5f527adf2f6a1552...|ITCHY ACRE CORPOR...|           IAC|43.32|2020-09-04 13:35:27| 43.30666666666667|\n",
      "|{5f527ae12f6a1552...|ITCHY ACRE CORPOR...|           IAC|43.28|2020-09-04 13:35:29| 43.31333333333333|\n",
      "|{5f527ae32f6a1552...|ITCHY ACRE CORPOR...|           IAC|43.34|2020-09-04 13:35:31| 43.31666666666666|\n",
      "|{5f527ae52f6a1552...|ITCHY ACRE CORPOR...|           IAC|43.33|2020-09-04 13:35:33|43.330000000000005|\n",
      "|{5f527ae72f6a1552...|ITCHY ACRE CORPOR...|           IAC|43.32|2020-09-04 13:35:35| 43.31666666666666|\n",
      "+--------------------+--------------------+--------------+-----+-------------------+------------------+\n",
      "only showing top 20 rows\n",
      "\n"
     ]
    }
   ],
   "source": [
    "movAvg.show()"
   ]
  },
  {
   "cell_type": "markdown",
   "id": "31de797f",
   "metadata": {},
   "source": [
    "To update the data in our MongoDB cluster, we use the save method."
   ]
  },
  {
   "cell_type": "code",
   "execution_count": 7,
   "id": "ad764377",
   "metadata": {},
   "outputs": [],
   "source": [
    "movAvg.write.format(\"mongo\").option(\"replaceDocument\", \"true\").mode(\"append\").save()"
   ]
  },
  {
   "cell_type": "markdown",
   "id": "f032b1cb",
   "metadata": {},
   "source": [
    "We can also use the power of the MongoDB Aggregation Framework to pre-filter, sort or aggregate our MongoDB data."
   ]
  },
  {
   "cell_type": "code",
   "execution_count": 8,
   "id": "56493258",
   "metadata": {},
   "outputs": [
    {
     "name": "stdout",
     "output_type": "stream",
     "text": [
      "+--------------------+--------+\n",
      "|                 _id|maxprice|\n",
      "+--------------------+--------+\n",
      "|FRUSTRATING CHAOS...|    87.6|\n",
      "|HOMELY KIOSK UNLI...|   86.48|\n",
      "| CREEPY GIT HOLDINGS|    83.4|\n",
      "|GREASY CHAMPION C...|   81.76|\n",
      "|COMBATIVE TOWNSHI...|   72.18|\n",
      "|FROTHY MIDNIGHT P...|   66.81|\n",
      "|ITCHY ACRE CORPOR...|   44.42|\n",
      "|LACKADAISICAL SAV...|   42.34|\n",
      "|CORNY PRACTITIONE...|   38.55|\n",
      "|TRITE JACKFRUIT P...|   22.62|\n",
      "+--------------------+--------+\n",
      "\n"
     ]
    }
   ],
   "source": [
    "pipeline = \"[{'$group': {_id:'$company_name', 'maxprice': {$max:'$price'}}},{$sort:{'maxprice':-1}}]\"\n",
    "aggPipelineDF = spark.read.format(\"mongo\").option(\"pipeline\", pipeline).option(\"partitioner\", \"MongoSinglePartitioner\").load()\n",
    "aggPipelineDF.show()"
   ]
  },
  {
   "cell_type": "markdown",
   "id": "4e77919d",
   "metadata": {},
   "source": [
    "Finally we can use SparkSQL to issue ANSI-compliant SQL against MongoDB data as follows:"
   ]
  },
  {
   "cell_type": "code",
   "execution_count": 9,
   "id": "2a528614",
   "metadata": {},
   "outputs": [
    {
     "name": "stdout",
     "output_type": "stream",
     "text": [
      "+--------------------+--------------------+--------------+-----+-------+------------------+\n",
      "|                 _id|        company_name|company_symbol|price|tx_time|     movingAverage|\n",
      "+--------------------+--------------------+--------------+-----+-------+------------------+\n",
      "|{5f527ac22f6a1552...|ITCHY ACRE CORPOR...|           IAC|43.38|   null|43.385000000000005|\n",
      "|{5f527ac32f6a1552...|ITCHY ACRE CORPOR...|           IAC|43.39|   null| 43.39666666666667|\n",
      "|{5f527ac42f6a1552...|ITCHY ACRE CORPOR...|           IAC|43.42|   null| 43.42333333333334|\n",
      "|{5f527ac62f6a1552...|ITCHY ACRE CORPOR...|           IAC|43.46|   null|             43.46|\n",
      "|{5f527ac82f6a1552...|ITCHY ACRE CORPOR...|           IAC| 43.5|   null|              43.5|\n",
      "|{5f527aca2f6a1552...|ITCHY ACRE CORPOR...|           IAC|43.54|   null| 43.52333333333333|\n",
      "|{5f527acc2f6a1552...|ITCHY ACRE CORPOR...|           IAC|43.53|   null| 43.53333333333333|\n",
      "|{5f527ace2f6a1552...|ITCHY ACRE CORPOR...|           IAC|43.53|   null| 43.52333333333333|\n",
      "|{5f527ad02f6a1552...|ITCHY ACRE CORPOR...|           IAC|43.51|   null| 43.51666666666666|\n",
      "|{5f527ad32f6a1552...|ITCHY ACRE CORPOR...|           IAC|43.51|   null| 43.49666666666667|\n",
      "|{5f527ad52f6a1552...|ITCHY ACRE CORPOR...|           IAC|43.47|   null| 43.49333333333333|\n",
      "|{5f527ad72f6a1552...|ITCHY ACRE CORPOR...|           IAC| 43.5|   null|             43.48|\n",
      "|{5f527ad92f6a1552...|ITCHY ACRE CORPOR...|           IAC|43.47|   null| 43.45333333333334|\n",
      "|{5f527adb2f6a1552...|ITCHY ACRE CORPOR...|           IAC|43.39|   null| 43.39333333333334|\n",
      "|{5f527add2f6a1552...|ITCHY ACRE CORPOR...|           IAC|43.32|   null|43.343333333333334|\n",
      "|{5f527adf2f6a1552...|ITCHY ACRE CORPOR...|           IAC|43.32|   null| 43.30666666666667|\n",
      "|{5f527ae12f6a1552...|ITCHY ACRE CORPOR...|           IAC|43.28|   null| 43.31333333333333|\n",
      "|{5f527ae32f6a1552...|ITCHY ACRE CORPOR...|           IAC|43.34|   null| 43.31666666666666|\n",
      "|{5f527ae52f6a1552...|ITCHY ACRE CORPOR...|           IAC|43.33|   null|43.330000000000005|\n",
      "|{5f527ae72f6a1552...|ITCHY ACRE CORPOR...|           IAC|43.32|   null| 43.31666666666666|\n",
      "+--------------------+--------------------+--------------+-----+-------+------------------+\n",
      "only showing top 20 rows\n",
      "\n"
     ]
    }
   ],
   "source": [
    "movAvg.createOrReplaceTempView(\"avgs\")\n",
    "sqlDF=spark.sql(\"SELECT * FROM avgs WHERE movingAverage > 43.0\")\n",
    "sqlDF.show()"
   ]
  },
  {
   "cell_type": "code",
   "execution_count": null,
   "id": "1fd3f879",
   "metadata": {},
   "outputs": [],
   "source": []
  }
 ],
 "metadata": {
  "kernelspec": {
   "display_name": "Python 3",
   "language": "python",
   "name": "python3"
  },
  "language_info": {
   "codemirror_mode": {
    "name": "ipython",
    "version": 3
   },
   "file_extension": ".py",
   "mimetype": "text/x-python",
   "name": "python",
   "nbconvert_exporter": "python",
   "pygments_lexer": "ipython3",
   "version": "3.9.4"
  }
 },
 "nbformat": 4,
 "nbformat_minor": 5
}
